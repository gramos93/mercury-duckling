{
 "cells": [
  {
   "cell_type": "code",
   "execution_count": 1,
   "metadata": {},
   "outputs": [
    {
     "name": "stdout",
     "output_type": "stream",
     "text": [
      "/home/gramos/Projects/MIIA-A23/code/mercury-duckling\n"
     ]
    }
   ],
   "source": [
    "%cd ../"
   ]
  },
  {
   "cell_type": "code",
   "execution_count": 2,
   "metadata": {},
   "outputs": [
    {
     "name": "stderr",
     "output_type": "stream",
     "text": [
      "/home/gramos/.pyenv/versions/3.11.5/envs/thermal/lib/python3.11/site-packages/torchvision/io/image.py:13: UserWarning: Failed to load image Python extension: '/home/gramos/.pyenv/versions/3.11.5/envs/thermal/lib/python3.11/site-packages/torchvision/image.so: undefined symbol: _ZN3c1017RegisterOperatorsD1Ev'If you don't plan on using image functionality from `torchvision.io`, you can ignore this warning. Otherwise, there might be something wrong with your environment. Did you have `libjpeg` or `libpng` installed before building `torchvision` from source?\n",
      "  warn(\n"
     ]
    }
   ],
   "source": [
    "%load_ext autoreload\n",
    "%autoreload 2\n",
    "\n",
    "import os\n",
    "import numpy as np\n",
    "from PIL import Image\n",
    "import cv2\n",
    "import torch\n",
    "from torchvision import tv_tensors\n",
    "from torchvision.datasets import CocoDetection\n",
    "import torchvision.transforms.v2 as v2\n",
    "from torchvision.transforms.v2.functional import to_pil_image\n",
    "from torchvision.datasets import wrap_dataset_for_transforms_v2\n",
    "from mercury_duckling.datasets.transforms import (\n",
    "    Blobify,\n",
    "    OneHotEncodeFromBlobs,\n",
    "    ResizeLongestSideAndPad,\n",
    "    Colormap,\n",
    "    MinMaxNormalization,\n",
    "    StandardizeTarget\n",
    ")\n",
    "from mercury_duckling.datasets import ThermalDataset"
   ]
  },
  {
   "cell_type": "code",
   "execution_count": 3,
   "metadata": {},
   "outputs": [
    {
     "name": "stdout",
     "output_type": "stream",
     "text": [
      "loading annotations into memory...\n",
      "Done (t=0.04s)\n",
      "creating index...\n",
      "index created!\n",
      "loading annotations into memory...\n",
      "Done (t=0.09s)\n",
      "creating index...\n",
      "index created!\n"
     ]
    }
   ],
   "source": [
    "transform = None\n",
    "target_transform = None\n",
    "transforms = v2.Compose(\n",
    "    [\n",
    "        v2.ToImage(),\n",
    "        # v2.RandomZoomOut(fill={tv_tensors.Image: (0), \"others\": 0}),\n",
    "        # v2.RandomIoUCrop(),\n",
    "        # v2.RandomHorizontalFlip(p=0.7),\n",
    "        # ResizeByCoefficient(cfg.data.coeff),\n",
    "        # MinMaxNormalization(),\n",
    "        # Colormap(colormap=\"turbo\"),\n",
    "        # Blobify(),\n",
    "        # OneHotEncodeFromBlobs(),\n",
    "        ResizeLongestSideAndPad(target_size=(256, 320)),\n",
    "        # v2.ClampBoundingBoxes(),\n",
    "        v2.ToDtype({tv_tensors.Image: torch.float32, \"others\": None}, scale=False),\n",
    "    ]\n",
    ")\n",
    "root=\"../../data/merged_dataset_delam_thm\"\n",
    "dataset = ThermalDataset(\n",
    "    root=root,\n",
    "    annFile=os.path.join(root, \"annotations/delamination.json\"),\n",
    "    transform=transform,\n",
    "    target_transform=target_transform,\n",
    "    transforms=transforms,\n",
    ")\n",
    "dataset = wrap_dataset_for_transforms_v2(\n",
    "    dataset,\n",
    "    target_keys=[\"masks\", \"labels\", \"boxes\", \"image_id\"]\n",
    ")\n",
    "root=\"../../data/merged_dataset_concrete\"\n",
    "dataset_concrete = CocoDetection(\n",
    "    root=root,\n",
    "    annFile=os.path.join(root, \"annotations/concrete.json\"),\n",
    "    transform=transform,\n",
    "    target_transform=target_transform,\n",
    "    transforms=transforms,\n",
    ")\n",
    "dataset_concrete = wrap_dataset_for_transforms_v2(\n",
    "    dataset_concrete,\n",
    "    target_keys=[\"masks\", \"labels\", \"boxes\", \"image_id\"]\n",
    ")"
   ]
  },
  {
   "cell_type": "code",
   "execution_count": 4,
   "metadata": {},
   "outputs": [
    {
     "name": "stdout",
     "output_type": "stream",
     "text": [
      "Image ID: 256\n",
      "input shape: torch.Size([1, 256, 320]) \n",
      "input class: <class 'torchvision.tv_tensors._image.Image'> \n",
      "input dtype: torch.float32\n",
      "\n",
      "target shape: torch.Size([1, 256, 320]) \n",
      "number of targets: 1 \n",
      "target class: <class 'torchvision.tv_tensors._mask.Mask'> \n",
      "target dtype: torch.uint8\n"
     ]
    }
   ],
   "source": [
    "idx = 255\n",
    "input, target = dataset[idx]\n",
    "print(\"Image ID:\", target[\"image_id\"])\n",
    "print(\n",
    "    \"input shape:\", input.shape, \n",
    "    \"\\ninput class:\", type(input),\n",
    "    \"\\ninput dtype:\", input.dtype\n",
    ")\n",
    "print(\n",
    "    \"\\ntarget shape:\", target[\"masks\"].shape,\n",
    "    \"\\nnumber of targets:\", len(target[\"boxes\"]),\n",
    "    \"\\ntarget class:\", type(target[\"masks\"]),\n",
    "    \"\\ntarget dtype:\", target[\"masks\"].dtype\n",
    ")"
   ]
  },
  {
   "cell_type": "code",
   "execution_count": 5,
   "metadata": {},
   "outputs": [
    {
     "name": "stdout",
     "output_type": "stream",
     "text": [
      "VIS04_37.jpg\n"
     ]
    }
   ],
   "source": [
    "def get_visible(file_name, vis_dataset):\n",
    "    vis_name = file_name.replace(\"IR\", \"VIS\")\n",
    "    for _, img_info in vis_dataset.coco.imgs.items():\n",
    "        if img_info[\"file_name\"] == vis_name:\n",
    "            return img_info[\"id\"]\n",
    "\n",
    "file_name = dataset.coco.imgs[idx + 1][\"file_name\"]\n",
    "print(file_name.replace(\"IR\", \"VIS\"))\n",
    "vis_input, vis_target = dataset_concrete[get_visible(file_name, dataset_concrete) - 1]"
   ]
  },
  {
   "cell_type": "code",
   "execution_count": 42,
   "metadata": {},
   "outputs": [],
   "source": [
    "def interpolate(subBin, LU, RU, LB, RB, subX, subY):\n",
    "    \"\"\"\n",
    "    Image interpolation function, need to be applied after CLAHE\n",
    "    \"\"\"\n",
    "    subImage = np.zeros(subBin.shape)\n",
    "    num = subX * subY\n",
    "    for i in range(subX):\n",
    "        inverseI = subX - i\n",
    "        for j in range(subY):\n",
    "            inverseJ = subY - j\n",
    "            val = subBin[i, j].astype(int)\n",
    "            subImage[i, j] = np.floor(\n",
    "                (inverseI * (inverseJ * LU[val] + j * RU[val]) + i * (inverseJ * LB[val] + j * RB[val])) / float(num))\n",
    "    return subImage\n",
    "\n",
    "\n",
    "def clahe(img, clipLimit, nrBins=128, nrX=0, nrY=0):\n",
    "    \"\"\"\n",
    "    CLAHE algorithm implementation\n",
    "\n",
    "    :param img: Input image\n",
    "    :param clipLimit: Normalized clipLimit. Higher value gives more contrast\n",
    "    :param nrBins: Number of gray level bins for histogram(\"dynamic range\")\n",
    "    :param nrX: Number of contextual regions in X direction\n",
    "    :param nrY: Number of contextual regions in Y direction\n",
    "    \"\"\"\n",
    "    h, w = img.shape\n",
    "    if clipLimit == 1:\n",
    "        return\n",
    "    nrBins = max(nrBins, 128)\n",
    "    if nrX == 0:\n",
    "        # Taking dimensions of each contextial region to be a square of 32X32\n",
    "        xsz = 32\n",
    "        ysz = 32\n",
    "        nrX = np.ceil(h / xsz)  # 240\n",
    "        # Excess number of pixels to get an integer value of nrX and nrY\n",
    "        excX = int(xsz * (nrX - h / xsz))\n",
    "        nrY = np.ceil(w / ysz)  # 320\n",
    "        excY = int(ysz * (nrY - w / ysz))\n",
    "        # Pad that number of pixels to the image\n",
    "        if excX != 0:\n",
    "            img = np.append(img, np.zeros((excX, img.shape[1])).astype(int), axis=0)\n",
    "        if excY != 0:\n",
    "            img = np.append(img, np.zeros((img.shape[0], excY)).astype(int), axis=1)\n",
    "    else:\n",
    "        xsz = np.round(h / nrX)\n",
    "        ysz = np.round(w / nrY)\n",
    "        excX = int(xsz * (nrX - h / xsz))\n",
    "        excY = int(ysz * (nrY - w / ysz))\n",
    "        if excX != 0:\n",
    "            img = np.append(img, np.zeros((excX, img.shape[1])).astype(int), axis=0)\n",
    "        if excY != 0:\n",
    "            img = np.append(img, np.zeros((img.shape[0], excY)).astype(int), axis=1)\n",
    "\n",
    "    nrPixels = xsz * ysz\n",
    "    claheimg = np.zeros(img.shape)\n",
    "\n",
    "    if clipLimit > 0:\n",
    "        clipLimit = max(1, clipLimit * xsz * ysz / nrBins)\n",
    "    else:\n",
    "        clipLimit = 50\n",
    "\n",
    "    # Making LUT\n",
    "    print(\"...Make the LUT...\")\n",
    "    minVal = 0  # np.min(img)\n",
    "    maxVal = 255  # np.max(img)\n",
    "\n",
    "    binSz = np.floor(1 + (maxVal - minVal) / float(nrBins))\n",
    "    LUT = np.floor((np.arange(minVal, maxVal + 1) - minVal) / float(binSz))\n",
    "\n",
    "    # Creating bins from LUT with image\n",
    "    bins = LUT[img]\n",
    "    print(bins.shape)\n",
    "\n",
    "    # Making Histogram\n",
    "    print(\"...Making the Histogram...\")\n",
    "    nrX = int(nrX)\n",
    "    nrY = int(nrY)\n",
    "    xsz = int(xsz)\n",
    "    ysz = int(ysz)\n",
    "    hist = np.zeros((nrX, nrY, nrBins))\n",
    "    print(nrX, nrY, hist.shape)\n",
    "    for i in range(nrX):\n",
    "        for j in range(nrY):\n",
    "            bin_ = bins[i * xsz:(i + 1) * xsz, j * ysz:(j + 1) * ysz].astype(int)\n",
    "            for i1 in range(xsz):\n",
    "                for j1 in range(ysz):\n",
    "                    hist[i, j, bin_[i1, j1]] += 1\n",
    "\n",
    "    # Clipping Histogram\n",
    "    print(\"...Clipping the Histogram...\")\n",
    "    if clipLimit > 0:\n",
    "        for i in range(nrX):\n",
    "            for j in range(nrY):\n",
    "                nrExcess = 0\n",
    "                for nr in range(nrBins):\n",
    "                    excess = hist[i, j, nr] - clipLimit\n",
    "                    if excess > 0:\n",
    "                        nrExcess += excess\n",
    "\n",
    "                binIncr = nrExcess / nrBins\n",
    "                upper = clipLimit - binIncr\n",
    "                for nr in range(nrBins):\n",
    "                    if hist[i, j, nr] > clipLimit:\n",
    "                        hist[i, j, nr] = clipLimit\n",
    "                    else:\n",
    "                        if hist[i, j, nr] > upper:\n",
    "                            nrExcess += upper - hist[i, j, nr]\n",
    "                            hist[i, j, nr] = clipLimit\n",
    "                        else:\n",
    "                            nrExcess -= binIncr\n",
    "                            hist[i, j, nr] += binIncr\n",
    "\n",
    "                if nrExcess > 0:\n",
    "                    stepSz = max(1, np.floor(1 + nrExcess / nrBins))\n",
    "                    for nr in range(nrBins):\n",
    "                        nrExcess -= stepSz\n",
    "                        hist[i, j, nr] += stepSz\n",
    "                        if nrExcess < 1:\n",
    "                            break\n",
    "\n",
    "    # Mapping Histogram\n",
    "    print(\"...Mapping the Histogram...\")\n",
    "    map_ = np.zeros((nrX, nrY, nrBins))\n",
    "    # print(map_.shape)\n",
    "    scale = (maxVal - minVal) / float(nrPixels)\n",
    "    for i in range(nrX):\n",
    "        for j in range(nrY):\n",
    "            sum_ = 0\n",
    "            for nr in range(nrBins):\n",
    "                sum_ += hist[i, j, nr]\n",
    "                map_[i, j, nr] = np.floor(min(minVal + sum_ * scale, maxVal))\n",
    "\n",
    "    # Interpolation\n",
    "    print(\"...Interpolation...\")\n",
    "    xI = 0\n",
    "    for i in range(nrX + 1):\n",
    "        if i == 0:\n",
    "            subX = int(xsz / 2)\n",
    "            xU = 0\n",
    "            xB = 0\n",
    "        elif i == nrX:\n",
    "            subX = int(xsz / 2)\n",
    "            xU = nrX - 1\n",
    "            xB = nrX - 1\n",
    "        else:\n",
    "            subX = xsz\n",
    "            xU = i - 1\n",
    "            xB = i\n",
    "\n",
    "        yI = 0\n",
    "        for j in range(nrY + 1):\n",
    "            if j == 0:\n",
    "                subY = int(ysz / 2)\n",
    "                yL = 0\n",
    "                yR = 0\n",
    "            elif j == nrY:\n",
    "                subY = int(ysz / 2)\n",
    "                yL = nrY - 1\n",
    "                yR = nrY - 1\n",
    "            else:\n",
    "                subY = ysz\n",
    "                yL = j - 1\n",
    "                yR = j\n",
    "            UL = map_[xU, yL, :]\n",
    "            UR = map_[xU, yR, :]\n",
    "            BL = map_[xB, yL, :]\n",
    "            BR = map_[xB, yR, :]\n",
    "\n",
    "            subBin = bins[xI:xI + subX, yI:yI + subY]\n",
    "\n",
    "            subImage = interpolate(subBin, UL, UR, BL, BR, subX, subY)\n",
    "            claheimg[xI:xI + subX, yI:yI + subY] = subImage\n",
    "            yI += subY\n",
    "        xI += subX\n",
    "\n",
    "    if excX == 0 and excY != 0:\n",
    "        return claheimg[:, :-excY]\n",
    "    elif excX != 0 and excY == 0:\n",
    "        return claheimg[:-excX, :]\n",
    "    elif excX != 0 and excY != 0:\n",
    "        return claheimg[:-excX, :-excY]\n",
    "    else:\n",
    "        return claheimg\n"
   ]
  },
  {
   "cell_type": "code",
   "execution_count": 49,
   "metadata": {},
   "outputs": [
    {
     "name": "stdout",
     "output_type": "stream",
     "text": [
      "...Make the LUT...\n",
      "(256, 320)\n",
      "...Making the Histogram...\n",
      "4 4 (4, 4, 256)\n",
      "...Clipping the Histogram...\n",
      "...Mapping the Histogram...\n",
      "...Interpolation...\n"
     ]
    }
   ],
   "source": [
    "cmap = Colormap(colormap=\"Greys\")\n",
    "# ROI Scaling\n",
    "inpt_greyscale = np.array(to_pil_image(cmap(input)[1, ...] * vis_target[\"masks\"][0]))\n",
    "# CLAHE Processing\n",
    "clahe_image = clahe(inpt_greyscale, 10, 256, 4, 4)"
   ]
  },
  {
   "cell_type": "code",
   "execution_count": 50,
   "metadata": {},
   "outputs": [
    {
     "data": {
      "image/jpeg": "[encoded data removed]",
      "image/png": "[encoded data removed]",
      "text/plain": [
       "<PIL.Image.Image image mode=L size=320x256>"
      ]
     },
     "metadata": {},
     "output_type": "display_data"
    }
   ],
   "source": [
    "display(Image.fromarray(inpt_greyscale.astype(np.uint8)))"
   ]
  },
  {
   "cell_type": "code",
   "execution_count": 51,
   "metadata": {},
   "outputs": [
    {
     "data": {
      "image/jpeg": "[encoded data removed]",
      "image/png": "[encoded data removed]",
      "text/plain": [
       "<PIL.Image.Image image mode=L size=320x256>"
      ]
     },
     "metadata": {},
     "output_type": "display_data"
    }
   ],
   "source": [
    "display(Image.fromarray(clahe_image.astype(np.uint8)))"
   ]
  }
 ],
 "metadata": {
  "kernelspec": {
   "display_name": "thermal",
   "language": "python",
   "name": "python3"
  },
  "language_info": {
   "codemirror_mode": {
    "name": "ipython",
    "version": 3
   },
   "file_extension": ".py",
   "mimetype": "text/x-python",
   "name": "python",
   "nbconvert_exporter": "python",
   "pygments_lexer": "ipython3",
   "version": "3.11.5"
  }
 },
 "nbformat": 4,
 "nbformat_minor": 2
}
