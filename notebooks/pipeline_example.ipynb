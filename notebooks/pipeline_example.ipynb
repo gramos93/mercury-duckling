{
 "cells": [
  {
   "cell_type": "markdown",
   "metadata": {
    "isInteractiveWindowMessageCell": true
   },
   "source": [
    "Connected to thermal (Python 3.11.5)"
   ]
  },
  {
   "cell_type": "code",
   "execution_count": 1,
   "metadata": {},
   "outputs": [
    {
     "name": "stdout",
     "output_type": "stream",
     "text": [
      "/home/gramos/Projects/MIIA-A23/code/mercury-duckling\n"
     ]
    }
   ],
   "source": [
    "# -*- coding: utf-8 -*-\n",
    "# Go back to root directory of project.\n",
    "%cd ../"
   ]
  },
  {
   "cell_type": "code",
   "execution_count": 2,
   "metadata": {},
   "outputs": [],
   "source": [
    "import numpy as np\n",
    "\n",
    "import matplotlib\n",
    "matplotlib.rcParams['mathtext.fontset'] = 'custom'\n",
    "matplotlib.rcParams['mathtext.rm'] = 'Bitstream Vera Sans'\n",
    "matplotlib.rcParams['mathtext.it'] = 'Bitstream Vera Sans:italic'\n",
    "matplotlib.rcParams['mathtext.bf'] = 'Bitstream Vera Sans:bold'\n",
    "\n",
    "matplotlib.rcParams['mathtext.fontset'] = 'cm'\n",
    "matplotlib.rcParams['font.family'] = 'STIXGeneral'\n",
    "\n",
    "import matplotlib.pyplot as plt\n",
    "from rich.progress import track"
   ]
  },
  {
   "cell_type": "code",
   "execution_count": 3,
   "metadata": {},
   "outputs": [],
   "source": [
    "def show_mask(\n",
    "        mask, ax,\n",
    "        color=np.array([30/255, 144/255, 255/255, 0.6]),\n",
    "        random_color=False\n",
    "    ):\n",
    "    if random_color:\n",
    "        color = np.concatenate([np.random.random(3), np.array([0.6])], axis=0)\n",
    "    h, w = mask.shape[-2:]\n",
    "    mask_image = mask.reshape(h, w, 1) * color.reshape(1, 1, -1)\n",
    "    ax.imshow(mask_image)\n",
    "    \n",
    "def show_points(coords, labels, ax, marker_size=150):\n",
    "    pos_points = coords[labels==1]\n",
    "    neg_points = coords[labels==0]\n",
    "    ax.scatter(\n",
    "        pos_points[:, 0],\n",
    "        pos_points[:, 1], \n",
    "        color='green', \n",
    "        marker='o', \n",
    "        s=marker_size, \n",
    "        edgecolor='black', \n",
    "        linewidth=1.25,\n",
    "        alpha=1\n",
    "    )\n",
    "    ax.scatter(\n",
    "        neg_points[:, 0], \n",
    "        neg_points[:, 1], \n",
    "        color='red', \n",
    "        marker='X',\n",
    "        s=marker_size, \n",
    "        edgecolor='black', \n",
    "        linewidth=1.25,\n",
    "        alpha=1\n",
    "    )   \n",
    "    \n",
    "def show_box(box, ax):\n",
    "    x0, y0 = box[0], box[1]\n",
    "    w, h = box[2] - box[0], box[3] - box[1]\n",
    "    ax.add_patch(plt.Rectangle((x0, y0), w, h, edgecolor='green', facecolor=(0,0,0,0), lw=2))  \n",
    "\n",
    "def NOCS(ious, thresh, max_clicks=20):\n",
    "    ''' Number of clicks to reach threshold'''\n",
    "    nocs = []\n",
    "    for i in range(ious.shape[0]):\n",
    "        for j in range(max_clicks):\n",
    "            if(ious[i, j] >= thresh):\n",
    "                nocs.append(j + 1)\n",
    "                break\n",
    "        if(len(nocs) == i):\n",
    "            nocs.append(max_clicks)\n",
    "    return nocs\n",
    "\n",
    "iou_score = lambda y_hat, y : np.logical_and(y_hat, y).sum() / np.logical_or(y_hat, y).sum()\n",
    "\n",
    "def test_pipeline(pipeline):\n",
    "    ious = []\n",
    "    for i in track(range(5), description=\"Testing\"):\n",
    "        image, target, id = pipeline._dataset[i]\n",
    "        image = (image*255).astype(np.uint8)\n",
    "        target = target.transpose(2, 0, 1)\n",
    "        for i, mask in enumerate(np.array(target)):\n",
    "            mask_ious = [.0]\n",
    "            aux = None\n",
    "            masks = None\n",
    "            for prompts in pipeline.sampler.interact(mask):\n",
    "                masks, aux = pipeline.predict(\n",
    "                    image, prompts, aux if aux is not None else masks, id\n",
    "                )\n",
    "                pipeline.sampler.set_outputs(masks)\n",
    "                mask_ious.append(iou_score(masks, mask))\n",
    "            ious.append(mask_ious)\n",
    "    return ious\n",
    "\n",
    "masks_color = np.array([30/225, 225/225, 100/225, 0.6])\n",
    "root = \"../../data/_500_per_folder/merged_dataset_delam/\""
   ]
  },
  {
   "cell_type": "markdown",
   "metadata": {},
   "source": [
    "# Pipeline: SAM "
   ]
  },
  {
   "cell_type": "code",
   "execution_count": null,
   "metadata": {},
   "outputs": [],
   "source": [
    "from mercury_duckling.configs import SAM_THERMAL\n",
    "from mercury_duckling.pipelines.sam_interactive import SamInteractiveTest"
   ]
  },
  {
   "cell_type": "code",
   "execution_count": 4,
   "metadata": {},
   "outputs": [
    {
     "name": "stdout",
     "output_type": "stream",
     "text": [
      "loading annotations into memory...\n",
      "Done (t=0.01s)\n",
      "creating index...\n",
      "index created!\n"
     ]
    }
   ],
   "source": [
    "SAM_THERMAL[\"dataset\"][\"root\"] = root\n",
    "pipeline = SamInteractiveTest(SAM_THERMAL)\n",
    "pipeline.on_experiment_start(pipeline)\n",
    "\n",
    "sam_ious = test_pipeline(pipeline)"
   ]
  },
  {
   "cell_type": "markdown",
   "metadata": {},
   "source": [
    "# Pipeline: RITM"
   ]
  },
  {
   "cell_type": "code",
   "execution_count": 4,
   "metadata": {},
   "outputs": [],
   "source": [
    "import sys\n",
    "\n",
    "sys.path.append(\"./mercury_duckling/models/\")\n",
    "\n",
    "from mercury_duckling.configs import RITM_THERMAL\n",
    "from mercury_duckling.pipelines.ritm_interactive import RitmInteractiveTest"
   ]
  },
  {
   "cell_type": "code",
   "execution_count": 5,
   "metadata": {},
   "outputs": [
    {
     "name": "stdout",
     "output_type": "stream",
     "text": [
      "loading annotations into memory...\n",
      "Done (t=0.00s)\n",
      "creating index...\n",
      "index created!\n"
     ]
    }
   ],
   "source": [
    "RITM_THERMAL[\"dataset\"][\"root\"] = root\n",
    "pipeline = RitmInteractiveTest(RITM_THERMAL)\n",
    "pipeline.on_experiment_start(pipeline)\n",
    "\n",
    "ritm_ious = test_pipeline(pipeline)"
   ]
  },
  {
   "cell_type": "markdown",
   "metadata": {},
   "source": [
    "# Pipeline: Unet"
   ]
  },
  {
   "cell_type": "code",
   "execution_count": 4,
   "metadata": {},
   "outputs": [],
   "source": [
    "import sys\n",
    "sys.path.append(\"./mercury_duckling/models/inter_unet\")\n",
    "\n",
    "from mercury_duckling.configs import UNET_THERMAL\n",
    "from mercury_duckling.pipelines.unet_interactive import UnetInteractiveTest"
   ]
  },
  {
   "cell_type": "code",
   "execution_count": 5,
   "metadata": {},
   "outputs": [
    {
     "name": "stdout",
     "output_type": "stream",
     "text": [
      "loading annotations into memory...\n",
      "Done (t=0.01s)\n",
      "creating index...\n",
      "index created!\n",
      "modifying input layer\n"
     ]
    },
    {
     "data": {
      "application/vnd.jupyter.widget-view+json": {
       "model_id": "38723d998d6d4fcdb79e7b3a508e983b",
       "version_major": 2,
       "version_minor": 0
      },
      "text/plain": [
       "Output()"
      ]
     },
     "metadata": {},
     "output_type": "display_data"
    },
    {
     "data": {
      "text/html": [
       "<pre style=\"white-space:pre;overflow-x:auto;line-height:normal;font-family:Menlo,'DejaVu Sans Mono',consolas,'Courier New',monospace\"></pre>\n"
      ],
      "text/plain": []
     },
     "metadata": {},
     "output_type": "display_data"
    },
    {
     "data": {
      "text/html": [
       "<pre style=\"white-space:pre;overflow-x:auto;line-height:normal;font-family:Menlo,'DejaVu Sans Mono',consolas,'Courier New',monospace\">\n",
       "</pre>\n"
      ],
      "text/plain": [
       "\n"
      ]
     },
     "metadata": {},
     "output_type": "display_data"
    }
   ],
   "source": [
    "UNET_THERMAL[\"dataset\"][\"root\"] = root\n",
    "pipeline = UnetInteractiveTest(UNET_THERMAL)\n",
    "pipeline.on_experiment_start(pipeline)\n",
    "\n",
    "unet_ious = test_pipeline(pipeline)"
   ]
  },
  {
   "cell_type": "markdown",
   "metadata": {},
   "source": [
    "# Results"
   ]
  },
  {
   "cell_type": "code",
   "execution_count": 7,
   "metadata": {},
   "outputs": [
    {
     "data": {
      "image/png": "[encoded data removed]",
      "text/plain": [
       "<Figure size 1000x500 with 1 Axes>"
      ]
     },
     "metadata": {},
     "output_type": "display_data"
    }
   ],
   "source": [
    "fig, ax = plt.subplots(figsize=(10, 5))\n",
    "for ious in [sam_ious, ritm_ious, unet_ious]:\n",
    "    ious = np.array(ious)\n",
    "    means = ious.mean(axis=0)\n",
    "    ax.plot(means)\n",
    "ax.set_xlabel(\"Number of clicks\")\n",
    "ax.set_ylabel(\"IoU\")\n",
    "ax.set_xticks(range(21))\n",
    "ax.set_yticks(np.arange(0, 1.1, 0.1))\n",
    "ax.set_ylim([0, 1])\n",
    "ax.set_xlim([0, 20.7])\n",
    "ax.spines[['right', 'top']].set_visible(False)\n",
    "plt.legend([\"SAM\", \"RITM\", \"UNet\"])\n",
    "plt.grid(axis='y', linestyle='--')\n",
    "plt.show()"
   ]
  }
 ],
 "metadata": {
  "kernelspec": {
   "display_name": "thermal",
   "language": "python",
   "name": "python3"
  },
  "language_info": {
   "codemirror_mode": {
    "name": "ipython",
    "version": 3
   },
   "file_extension": ".py",
   "mimetype": "text/x-python",
   "name": "python",
   "nbconvert_exporter": "python",
   "pygments_lexer": "ipython3",
   "version": "3.11.5"
  }
 },
 "nbformat": 4,
 "nbformat_minor": 2
}
